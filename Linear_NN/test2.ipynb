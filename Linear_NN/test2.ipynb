{
 "cells": [
  {
   "cell_type": "code",
   "execution_count": 1,
   "metadata": {},
   "outputs": [],
   "source": [
    "#Author-Vishal Burman"
   ]
  },
  {
   "cell_type": "markdown",
   "metadata": {},
   "source": [
    "## Linear Regression implementation from scratch"
   ]
  },
  {
   "cell_type": "code",
   "execution_count": 2,
   "metadata": {},
   "outputs": [],
   "source": [
    "%matplotlib inline"
   ]
  },
  {
   "cell_type": "code",
   "execution_count": 4,
   "metadata": {},
   "outputs": [],
   "source": [
    "from mxnet import autograd, nd\n",
    "import random"
   ]
  },
  {
   "cell_type": "code",
   "execution_count": 8,
   "metadata": {},
   "outputs": [],
   "source": [
    "# We will set the training set to be 1000*2 and sampling each data point from Gaussian distribution\n",
    "# epsilon introduced in the equation will be the random noise to account for measurement errors(in features and labels)\n",
    "# The final equation will be:\n",
    "# y=Xw+b+epsilon\n",
    "# Epsilon will also be sampled from Gaussian distribution and standard deviation will be 0.01"
   ]
  },
  {
   "cell_type": "code",
   "execution_count": 5,
   "metadata": {},
   "outputs": [],
   "source": [
    "def synthetic_data(w, b, num_examples):\n",
    "    X=nd.random.normal(scale=1, shape=(num_examples, len(w)))\n",
    "    y=nd.dot(X, w)+b\n",
    "    y+=nd.random.normal(scale=0.01, shape=y.shape)\n",
    "    return X, y"
   ]
  },
  {
   "cell_type": "code",
   "execution_count": 11,
   "metadata": {},
   "outputs": [],
   "source": [
    "true_w=nd.array([2, 3.4])\n",
    "true_b=4.2\n",
    "features, labels=synthetic_data(true_w, true_b, 1000)"
   ]
  },
  {
   "cell_type": "code",
   "execution_count": 12,
   "metadata": {},
   "outputs": [],
   "source": [
    "# Each row in features contain 2-dimensional data point and each row in labels contain 1-dimensional target value"
   ]
  },
  {
   "cell_type": "code",
   "execution_count": 14,
   "metadata": {},
   "outputs": [
    {
     "data": {
      "text/plain": [
       "(\n",
       " [ 1.4642214 -1.3058136]\n",
       " <NDArray 2 @cpu(0)>, \n",
       " [2.6827433]\n",
       " <NDArray 1 @cpu(0)>)"
      ]
     },
     "execution_count": 14,
     "metadata": {},
     "output_type": "execute_result"
    }
   ],
   "source": [
    "features[0], labels[0]"
   ]
  },
  {
   "cell_type": "code",
   "execution_count": 15,
   "metadata": {},
   "outputs": [],
   "source": [
    "# Genarating a scatter plot using the second feature[:, 1] and labels, we can observe linear correlation between two"
   ]
  },
  {
   "cell_type": "code",
   "execution_count": 16,
   "metadata": {},
   "outputs": [],
   "source": [
    "import matplotlib.pyplot as plt"
   ]
  },
  {
   "cell_type": "code",
   "execution_count": 18,
   "metadata": {},
   "outputs": [
    {
     "data": {
      "text/plain": [
       "<matplotlib.collections.PathCollection at 0x1e4e0ad86a0>"
      ]
     },
     "execution_count": 18,
     "metadata": {},
     "output_type": "execute_result"
    },
    {
     "data": {
      "image/png": "[encoded data removed]",
      "text/plain": [
       "<Figure size 396x324 with 1 Axes>"
      ]
     },
     "metadata": {
      "needs_background": "light"
     },
     "output_type": "display_data"
    }
   ],
   "source": [
    "plt.figure(figsize=(5.5, 4.5))\n",
    "plt.scatter(features[:, 1].asnumpy(), labels.asnumpy(), 1)"
   ]
  },
  {
   "cell_type": "markdown",
   "metadata": {},
   "source": [
    "## Reading data"
   ]
  },
  {
   "cell_type": "code",
   "execution_count": 20,
   "metadata": {},
   "outputs": [],
   "source": [
    "#We implement the data iter function to take a batch_size, a design matrix containing the features and vector of labels\n",
    "# The funtion yields batch_size, each containing a tuple of features and labels"
   ]
  },
  {
   "cell_type": "code",
   "execution_count": 22,
   "metadata": {},
   "outputs": [],
   "source": [
    "# The take funtion returns the corresponding element based on indices"
   ]
  },
  {
   "cell_type": "code",
   "execution_count": 21,
   "metadata": {},
   "outputs": [],
   "source": [
    "def data_iter(batch_size, features, labels):\n",
    "    num_examples=len(features)\n",
    "    indices=list(range(num_examples))\n",
    "    # The examples are read at random, in no particular order\n",
    "    random.shuffle(indices)\n",
    "    for i in range(0, num_examples, batch_size):\n",
    "        j=nd.array(indices[i: min(i+batch_size, num_examples)])\n",
    "        yield features.take(j), labels.take(j)"
   ]
  },
  {
   "cell_type": "code",
   "execution_count": 23,
   "metadata": {},
   "outputs": [],
   "source": [
    "# Let's read and print the first batch of data examples"
   ]
  },
  {
   "cell_type": "code",
   "execution_count": 25,
   "metadata": {},
   "outputs": [
    {
     "name": "stdout",
     "output_type": "stream",
     "text": [
      "\n",
      "[[-0.50332594  1.3600037 ]\n",
      " [ 1.6170875  -0.01983094]\n",
      " [-1.444514    0.8161459 ]\n",
      " [ 0.6531516   0.8974339 ]\n",
      " [-0.98558     0.35929397]\n",
      " [ 1.5093653   1.0812887 ]\n",
      " [ 0.62905794  1.2021765 ]\n",
      " [ 0.57885617 -0.687176  ]\n",
      " [-1.2960209   1.3952516 ]\n",
      " [ 0.34234303  0.66577077]]\n",
      "<NDArray 10x2 @cpu(0)> \n",
      "[ 7.811222   7.362275   4.105933   8.554673   3.4395964 10.894056\n",
      "  9.547028   3.0156102  6.3629127  7.1432986]\n",
      "<NDArray 10 @cpu(0)>\n"
     ]
    }
   ],
   "source": [
    "batch_size=10\n",
    "for X, y in data_iter(batch_size, features, labels):\n",
    "    print(X, y)\n",
    "    break"
   ]
  },
  {
   "cell_type": "markdown",
   "metadata": {},
   "source": [
    "## Initialize Model parameters"
   ]
  },
  {
   "cell_type": "code",
   "execution_count": 26,
   "metadata": {},
   "outputs": [],
   "source": [
    "# We initialize weights by sampling random numbers from normal distribution with mean 0 and a standard deviation of 0.01\n",
    "#  We also set the bias to 0"
   ]
  },
  {
   "cell_type": "code",
   "execution_count": 27,
   "metadata": {},
   "outputs": [],
   "source": [
    "w=nd.random.normal(scale=0.01, shape=(2,1))\n",
    "b=nd.zeros(shape=(1,))"
   ]
  },
  {
   "cell_type": "code",
   "execution_count": 29,
   "metadata": {},
   "outputs": [],
   "source": [
    "# To calculate gradients later in the stage"
   ]
  },
  {
   "cell_type": "code",
   "execution_count": 28,
   "metadata": {},
   "outputs": [],
   "source": [
    "w.attach_grad()\n",
    "b.attach_grad()"
   ]
  },
  {
   "cell_type": "markdown",
   "metadata": {},
   "source": [
    "## Define the model"
   ]
  },
  {
   "cell_type": "code",
   "execution_count": 30,
   "metadata": {},
   "outputs": [],
   "source": [
    "def linreg(X, w , b):\n",
    "    return nd.dot(X, w)+b"
   ]
  },
  {
   "cell_type": "markdown",
   "metadata": {},
   "source": [
    "## Define the Loss function"
   ]
  },
  {
   "cell_type": "code",
   "execution_count": 31,
   "metadata": {},
   "outputs": [],
   "source": [
    "# Since updating our model requires taking the gradient of loss function...we will use the squared loss function"
   ]
  },
  {
   "cell_type": "code",
   "execution_count": 32,
   "metadata": {},
   "outputs": [],
   "source": [
    "def squared_loss(y_hat, y):\n",
    "    return (y_hat-y.reshape(y_hat.shape))**2/2"
   ]
  },
  {
   "cell_type": "markdown",
   "metadata": {},
   "source": [
    "## Define the Optimization Algorithm"
   ]
  },
  {
   "cell_type": "code",
   "execution_count": 38,
   "metadata": {},
   "outputs": [],
   "source": [
    "# At each step we estmate the gradient of the loss.\n",
    "# We update our parameters such that which reduces the loss\n",
    "# Since our loss is calculated as a sum over the batch of examples, we normalize out step_size with batch size"
   ]
  },
  {
   "cell_type": "code",
   "execution_count": 37,
   "metadata": {},
   "outputs": [],
   "source": [
    "def sgd(params, lr , batch_size):\n",
    "    for param in params:\n",
    "        param[:]=param- lr * param.grad / batch_size"
   ]
  },
  {
   "cell_type": "markdown",
   "metadata": {},
   "source": [
    "## Training"
   ]
  },
  {
   "cell_type": "code",
   "execution_count": 39,
   "metadata": {},
   "outputs": [
    {
     "name": "stdout",
     "output_type": "stream",
     "text": [
      "epoch 1, loss 0.034291\n",
      "epoch 2, loss 0.000132\n",
      "epoch 3, loss 0.000049\n"
     ]
    }
   ],
   "source": [
    "lr=0.03 #Learning rate\n",
    "num_epochs= 3\n",
    "net =linreg # Our fancy linear model ;-)\n",
    "loss =squared_loss #0.5 (y-y')^2\n",
    "\n",
    "for epoch in range(num_epochs):\n",
    "    for X, y in data_iter(batch_size, features, labels):\n",
    "        with autograd.record():\n",
    "            l=loss(net(X, w, b), y) #Mini-batch loss in X and y\n",
    "        l.backward() # Compute gradient on l with respect to [w, b]\n",
    "        sgd([w, b], lr, batch_size) # Update parameters using their gradient\n",
    "    train_l=loss(net(features, w, b), labels)\n",
    "    print('epoch %d, loss %f' % (epoch + 1, train_l.mean().asnumpy()))"
   ]
  },
  {
   "cell_type": "code",
   "execution_count": 45,
   "metadata": {},
   "outputs": [
    {
     "data": {
      "text/plain": [
       "2"
      ]
     },
     "execution_count": 45,
     "metadata": {},
     "output_type": "execute_result"
    }
   ],
   "source": [
    "len([w, b])"
   ]
  },
  {
   "cell_type": "code",
   "execution_count": null,
   "metadata": {},
   "outputs": [],
   "source": []
  }
 ],
 "metadata": {
  "kernelspec": {
   "display_name": "Python 3",
   "language": "python",
   "name": "python3"
  },
  "language_info": {
   "codemirror_mode": {
    "name": "ipython",
    "version": 3
   },
   "file_extension": ".py",
   "mimetype": "text/x-python",
   "name": "python",
   "nbconvert_exporter": "python",
   "pygments_lexer": "ipython3",
   "version": "3.6.5"
  }
 },
 "nbformat": 4,
 "nbformat_minor": 2
}
