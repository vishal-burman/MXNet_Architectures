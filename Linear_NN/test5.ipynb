{
 "cells": [
  {
   "cell_type": "markdown",
   "metadata": {},
   "source": [
    "## Concise Implementation of Softmax Regression "
   ]
  },
  {
   "cell_type": "code",
   "execution_count": 1,
   "metadata": {},
   "outputs": [],
   "source": [
    "from mxnet import gluon, init"
   ]
  },
  {
   "cell_type": "code",
   "execution_count": 2,
   "metadata": {},
   "outputs": [],
   "source": [
    "from mxnet.gluon import nn"
   ]
  },
  {
   "cell_type": "code",
   "execution_count": 3,
   "metadata": {},
   "outputs": [],
   "source": [
    "from mxnet import autograd"
   ]
  },
  {
   "cell_type": "code",
   "execution_count": null,
   "metadata": {},
   "outputs": [],
   "source": [
    "# We stick with the Fashion_mnist dataset and the batch_size is set to 256 for the iterator"
   ]
  },
  {
   "cell_type": "code",
   "execution_count": 4,
   "metadata": {},
   "outputs": [],
   "source": [
    "batch_size=256"
   ]
  },
  {
   "cell_type": "code",
   "execution_count": 5,
   "metadata": {},
   "outputs": [],
   "source": [
    "def load_data_fashion_mnist(batch_size, resize=None):\n",
    "    \"\"\"Load the Fashion mnist data into the memory\"\"\"\n",
    "    dataset=gluon.data.vision\n",
    "    trans=[dataset.transforms.Resize(resize)] if resize else []\n",
    "    trans.append(dataset.transforms.ToTensor())\n",
    "    trans=dataset.transforms.Compose(trans)\n",
    "    mnist_train=dataset.FashionMNIST(train=True).transform_first(trans)\n",
    "    mnist_test=dataset.FashionMNIST(train=False).transform_first(trans)\n",
    "    return ((gluon.data.DataLoader(mnist_train, batch_size=batch_size, shuffle=True)), (gluon.data.DataLoader(mnist_test, batch_size=batch_size, shuffle=False)))"
   ]
  },
  {
   "cell_type": "code",
   "execution_count": 6,
   "metadata": {},
   "outputs": [],
   "source": [
    "train_iter, test_iter=load_data_fashion_mnist(batch_size)"
   ]
  },
  {
   "cell_type": "markdown",
   "metadata": {},
   "source": [
    "## Initialize Model Parameters"
   ]
  },
  {
   "cell_type": "code",
   "execution_count": 13,
   "metadata": {},
   "outputs": [],
   "source": [
    "# We initialize our model with Gaussian distribution with zero mean and standard deviation 0.01\n",
    "#  The output layer consists of 10 units"
   ]
  },
  {
   "cell_type": "code",
   "execution_count": 7,
   "metadata": {},
   "outputs": [],
   "source": [
    "net=nn.Sequential()\n",
    "net.add(nn.Dense(10))\n",
    "net.initialize(init.Normal(sigma=0.01))"
   ]
  },
  {
   "cell_type": "markdown",
   "metadata": {},
   "source": [
    "## The Softmax"
   ]
  },
  {
   "cell_type": "code",
   "execution_count": 14,
   "metadata": {},
   "outputs": [],
   "source": [
    "# Combining the two operators softmax and cross_entropy, we can escape numerical stability issues during backpropagation\n",
    "# log(y_hat)=log((e^z)/sigma(e^z))\n",
    "#           = log(e^z) - log(sigma(e^z))\n",
    "#           = z - log(sigma(e^z))"
   ]
  },
  {
   "cell_type": "code",
   "execution_count": 8,
   "metadata": {},
   "outputs": [],
   "source": [
    "loss=gluon.loss.SoftmaxCrossEntropyLoss()"
   ]
  },
  {
   "cell_type": "markdown",
   "metadata": {},
   "source": [
    "## Optimization Algorithm"
   ]
  },
  {
   "cell_type": "code",
   "execution_count": 15,
   "metadata": {},
   "outputs": [],
   "source": [
    "# We use mini-batch gradient descent with a learning scale of 0.1\n",
    "# This is the same choice as that of Linear Regression and shows the general applicability"
   ]
  },
  {
   "cell_type": "code",
   "execution_count": 9,
   "metadata": {},
   "outputs": [],
   "source": [
    "trainer=gluon.Trainer(net.collect_params(), 'sgd', {'learning_rate':0.1})"
   ]
  },
  {
   "cell_type": "markdown",
   "metadata": {},
   "source": [
    "## Training"
   ]
  },
  {
   "cell_type": "code",
   "execution_count": 10,
   "metadata": {},
   "outputs": [],
   "source": [
    "import mxnet as mx\n",
    "from mxnet import nd"
   ]
  },
  {
   "cell_type": "code",
   "execution_count": null,
   "metadata": {},
   "outputs": [],
   "source": [
    "# Here we use the accuracy metric of the mxnet's gluon library\n",
    "# We return the second column which contains the accuracy"
   ]
  },
  {
   "cell_type": "code",
   "execution_count": 11,
   "metadata": {},
   "outputs": [],
   "source": [
    "def evaluate_acc(data_iterator, net):\n",
    "    acc=mx.metric.Accuracy()\n",
    "    for i, (data, label) in enumerate(data_iterator):\n",
    "        output=net(data)\n",
    "        predictions=nd.argmax(output, axis=1)\n",
    "        acc.update(preds=predictions, labels=label)\n",
    "    return acc.get()[1]"
   ]
  },
  {
   "cell_type": "code",
   "execution_count": 16,
   "metadata": {},
   "outputs": [],
   "source": [
    "# The training loop\n",
    "# We run for 10 epochs"
   ]
  },
  {
   "cell_type": "code",
   "execution_count": 12,
   "metadata": {},
   "outputs": [
    {
     "name": "stdout",
     "output_type": "stream",
     "text": [
      "Epoch 1. Loss: 0.790034747950236, Train_acc 0.7968666666666666, Test_acc 0.7964\n",
      "Epoch 2. Loss: 0.5738830060323079, Train_acc 0.8209166666666666, Test_acc 0.823\n",
      "Epoch 3. Loss: 0.5296480720520019, Train_acc 0.8305166666666667, Test_acc 0.8324\n",
      "Epoch 4. Loss: 0.506044314066569, Train_acc 0.83305, Test_acc 0.8357\n",
      "Epoch 5. Loss: 0.489495499420166, Train_acc 0.83585, Test_acc 0.8378\n",
      "Epoch 6. Loss: 0.47769207458496094, Train_acc 0.8423833333333334, Test_acc 0.845\n",
      "Epoch 7. Loss: 0.46946451168060305, Train_acc 0.8443333333333334, Test_acc 0.8448\n",
      "Epoch 8. Loss: 0.46226937624613446, Train_acc 0.8444333333333334, Test_acc 0.845\n",
      "Epoch 9. Loss: 0.45660617497762046, Train_acc 0.8466666666666667, Test_acc 0.8466\n",
      "Epoch 10. Loss: 0.4507445888519287, Train_acc 0.8469, Test_acc 0.8486\n"
     ]
    }
   ],
   "source": [
    "num_epochs=10\n",
    "for epoch in range(1, num_epochs+1):\n",
    "    cumulative_loss=0\n",
    "    for X, y in train_iter:\n",
    "        with autograd.record():\n",
    "            y_hat=net(X)\n",
    "            l=loss(y_hat, y)\n",
    "        l.backward()\n",
    "        trainer.step(batch_size)\n",
    "        cumulative_loss+=nd.sum(l).asscalar()\n",
    "    test_accuracy=evaluate_acc(test_iter, net)\n",
    "    train_accuracy=evaluate_acc(train_iter, net)\n",
    "    print(\"Epoch %s. Loss: %s, Train_acc %s, Test_acc %s\" % (epoch, cumulative_loss/60000, train_accuracy, test_accuracy))"
   ]
  },
  {
   "cell_type": "code",
   "execution_count": null,
   "metadata": {},
   "outputs": [],
   "source": [
    " "
   ]
  }
 ],
 "metadata": {
  "kernelspec": {
   "display_name": "Python 3",
   "language": "python",
   "name": "python3"
  },
  "language_info": {
   "codemirror_mode": {
    "name": "ipython",
    "version": 3
   },
   "file_extension": ".py",
   "mimetype": "text/x-python",
   "name": "python",
   "nbconvert_exporter": "python",
   "pygments_lexer": "ipython3",
   "version": "3.6.5"
  }
 },
 "nbformat": 4,
 "nbformat_minor": 2
}
