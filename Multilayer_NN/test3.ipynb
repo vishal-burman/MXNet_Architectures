{
 "cells": [
  {
   "cell_type": "code",
   "execution_count": 1,
   "metadata": {},
   "outputs": [],
   "source": [
    "#Author-Vishal Burman"
   ]
  },
  {
   "cell_type": "markdown",
   "metadata": {},
   "source": [
    "## Concise Implementation of Multilayer Perceptron"
   ]
  },
  {
   "cell_type": "code",
   "execution_count": 18,
   "metadata": {},
   "outputs": [],
   "source": [
    "from mxnet import gluon, init, autograd, nd\n",
    "from mxnet.gluon import nn"
   ]
  },
  {
   "cell_type": "markdown",
   "metadata": {},
   "source": [
    "## The Model"
   ]
  },
  {
   "cell_type": "code",
   "execution_count": 20,
   "metadata": {},
   "outputs": [],
   "source": [
    "# Defining the model\n",
    "# First layer is initialized from Gaussian distrbution with standard deviation of 0.01\n",
    "# The hiddden layer is added with 256 nodes\n",
    "# The output has 10 nodes because of 10 categories"
   ]
  },
  {
   "cell_type": "code",
   "execution_count": 4,
   "metadata": {},
   "outputs": [],
   "source": [
    "net=nn.Sequential()\n",
    "net.add(nn.Dense(256, activation='relu'), nn.Dense(10))\n",
    "net.initialize(init.Normal(sigma=0.01))"
   ]
  },
  {
   "cell_type": "code",
   "execution_count": 21,
   "metadata": {},
   "outputs": [],
   "source": [
    "# Defining the batch size of train_iterator and test_iterator"
   ]
  },
  {
   "cell_type": "code",
   "execution_count": 5,
   "metadata": {},
   "outputs": [],
   "source": [
    "batch_size=256"
   ]
  },
  {
   "cell_type": "code",
   "execution_count": 22,
   "metadata": {},
   "outputs": [],
   "source": [
    "# The function which loads the Fashion-MNIST into the memory"
   ]
  },
  {
   "cell_type": "code",
   "execution_count": 8,
   "metadata": {},
   "outputs": [],
   "source": [
    "def load_data_fashion_mnist(batch_size, resize=None):\n",
    "    \"\"\"Load Fashion mnist into the memory\"\"\"\n",
    "    dataset=gluon.data.vision\n",
    "    trans=[dataset.transforms.Resize(resize)] if resize else []\n",
    "    trans.append(dataset.transforms.ToTensor())\n",
    "    trans=dataset.transforms.Compose(trans)\n",
    "    mnist_train=dataset.FashionMNIST(train=True).transform_first(trans)\n",
    "    mnist_test=dataset.FashionMNIST(train=False).transform_first(trans)\n",
    "    return ((gluon.data.DataLoader(mnist_train, batch_size=batch_size, shuffle=True)), (gluon.data.DataLoader(mnist_test, batch_size=batch_size, shuffle=False)))"
   ]
  },
  {
   "cell_type": "code",
   "execution_count": 23,
   "metadata": {},
   "outputs": [],
   "source": [
    "# Creating iterators for both training set and test-set"
   ]
  },
  {
   "cell_type": "code",
   "execution_count": 9,
   "metadata": {},
   "outputs": [],
   "source": [
    "train_iter, test_iter=load_data_fashion_mnist(batch_size)"
   ]
  },
  {
   "cell_type": "code",
   "execution_count": 24,
   "metadata": {},
   "outputs": [],
   "source": [
    "# The number of epochs set for training"
   ]
  },
  {
   "cell_type": "code",
   "execution_count": 10,
   "metadata": {},
   "outputs": [],
   "source": [
    "num_epochs=10"
   ]
  },
  {
   "cell_type": "code",
   "execution_count": null,
   "metadata": {},
   "outputs": [],
   "source": [
    "# We take the loss SoftMax Cross Entropy"
   ]
  },
  {
   "cell_type": "code",
   "execution_count": 11,
   "metadata": {},
   "outputs": [],
   "source": [
    "loss=gluon.loss.SoftmaxCrossEntropyLoss()\n",
    "trainer=gluon.Trainer(net.collect_params(), 'sgd', {'learning_rate':0.5})"
   ]
  },
  {
   "cell_type": "code",
   "execution_count": 12,
   "metadata": {},
   "outputs": [],
   "source": [
    "import mxnet as mx"
   ]
  },
  {
   "cell_type": "code",
   "execution_count": 25,
   "metadata": {},
   "outputs": [],
   "source": [
    "# The evaluation function which determines the accuracy of the model at any given time\n",
    "# It takes two parameters-> data_iterator and the model"
   ]
  },
  {
   "cell_type": "code",
   "execution_count": 13,
   "metadata": {},
   "outputs": [],
   "source": [
    "def evaluate_acc(data_iter, net):\n",
    "    acc=mx.metric.Accuracy()\n",
    "    for i, (data, label) in enumerate(data_iter):\n",
    "        output=net(data)\n",
    "        predictions=nd.argmax(output, axis=1)\n",
    "        acc.update(preds=predictions, labels=label)\n",
    "    return acc.get()[1]"
   ]
  },
  {
   "cell_type": "code",
   "execution_count": 14,
   "metadata": {},
   "outputs": [],
   "source": [
    "#Writing the training loop"
   ]
  },
  {
   "cell_type": "code",
   "execution_count": 19,
   "metadata": {},
   "outputs": [
    {
     "name": "stdout",
     "output_type": "stream",
     "text": [
      "Epoch 1. Loss: 0.776368222173055, Train_acc 0.8108, Test_acc 0.8041\n",
      "Epoch 2. Loss: 0.489579932975769, Train_acc 0.854, Test_acc 0.8502\n",
      "Epoch 3. Loss: 0.4295759784062703, Train_acc 0.8511, Test_acc 0.8475\n",
      "Epoch 4. Loss: 0.3949359818458557, Train_acc 0.8714666666666666, Test_acc 0.8669\n",
      "Epoch 5. Loss: 0.36848887418111165, Train_acc 0.8783666666666666, Test_acc 0.872\n",
      "Epoch 6. Loss: 0.35583555984497073, Train_acc 0.8771666666666667, Test_acc 0.8683\n",
      "Epoch 7. Loss: 0.3412917427062988, Train_acc 0.8851, Test_acc 0.8786\n",
      "Epoch 8. Loss: 0.3266287867863973, Train_acc 0.8898166666666667, Test_acc 0.878\n",
      "Epoch 9. Loss: 0.31459743315378824, Train_acc 0.8884, Test_acc 0.8777\n",
      "Epoch 10. Loss: 0.30656643781661985, Train_acc 0.8956, Test_acc 0.8812\n"
     ]
    }
   ],
   "source": [
    "for epoch in range(1, num_epochs+1):\n",
    "    cumulative_loss=0\n",
    "    for X, y in train_iter:\n",
    "        with autograd.record():\n",
    "            y_hat=net(X)\n",
    "            l=loss(y_hat,y)\n",
    "        l.backward()\n",
    "        trainer.step(batch_size)\n",
    "        cumulative_loss+=nd.sum(l).asscalar()\n",
    "    test_accuracy=evaluate_acc(test_iter, net)\n",
    "    train_accuracy=evaluate_acc(train_iter, net)\n",
    "    print(\"Epoch %s. Loss: %s, Train_acc %s, Test_acc %s\" % (epoch, cumulative_loss/60000, train_accuracy, test_accuracy))\n",
    "    "
   ]
  },
  {
   "cell_type": "code",
   "execution_count": null,
   "metadata": {},
   "outputs": [],
   "source": []
  }
 ],
 "metadata": {
  "kernelspec": {
   "display_name": "Python 3",
   "language": "python",
   "name": "python3"
  },
  "language_info": {
   "codemirror_mode": {
    "name": "ipython",
    "version": 3
   },
   "file_extension": ".py",
   "mimetype": "text/x-python",
   "name": "python",
   "nbconvert_exporter": "python",
   "pygments_lexer": "ipython3",
   "version": "3.6.5"
  }
 },
 "nbformat": 4,
 "nbformat_minor": 2
}
