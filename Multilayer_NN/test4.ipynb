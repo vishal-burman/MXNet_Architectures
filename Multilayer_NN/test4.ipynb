{
 "cells": [
  {
   "cell_type": "code",
   "execution_count": 1,
   "metadata": {},
   "outputs": [],
   "source": [
    "# Author-Vishal Burman"
   ]
  },
  {
   "cell_type": "markdown",
   "metadata": {},
   "source": [
    "## High-dimensional Linear Regression"
   ]
  },
  {
   "cell_type": "code",
   "execution_count": 2,
   "metadata": {},
   "outputs": [],
   "source": [
    "# First we generate the synthetic data using the below formula:"
   ]
  },
  {
   "cell_type": "markdown",
   "metadata": {},
   "source": [
    "\\begin{equation}\n",
    "y = 0.05 + \\sum_{i = 1}^d 0.01 x_i + \\epsilon \\text{ where }\n",
    "\\epsilon \\sim \\mathcal{N}(0, 0.01)\n",
    "\\end{equation}"
   ]
  },
  {
   "cell_type": "code",
   "execution_count": 3,
   "metadata": {},
   "outputs": [],
   "source": [
    "# It represents the label as the linear function of our inputs, corrupted by Gaussian note\n",
    "# The Gaussian note is taken with zero mean and 0.01 variance"
   ]
  },
  {
   "cell_type": "code",
   "execution_count": 4,
   "metadata": {},
   "outputs": [],
   "source": [
    "from mxnet import gluon, autograd, init, nd\n",
    "from mxnet.gluon import nn"
   ]
  },
  {
   "cell_type": "code",
   "execution_count": 6,
   "metadata": {},
   "outputs": [],
   "source": [
    "# Function to generate synthetic data"
   ]
  },
  {
   "cell_type": "code",
   "execution_count": 8,
   "metadata": {},
   "outputs": [],
   "source": [
    "def synthetic_data(w, b, num_examples):\n",
    "    \"\"\"generate y = Xw + b + noise\"\"\"\n",
    "    X=nd.random.normal(scale=1, shape=(num_examples, len(w)))\n",
    "    y=nd.dot(X, w)+b\n",
    "    y+=nd.random.normal(scale=0.01, shape=y.shape)\n",
    "    return X, y"
   ]
  },
  {
   "cell_type": "code",
   "execution_count": 10,
   "metadata": {},
   "outputs": [],
   "source": [
    "# Create a gluon DataLoader from the array"
   ]
  },
  {
   "cell_type": "code",
   "execution_count": 11,
   "metadata": {},
   "outputs": [],
   "source": [
    "def load_array(data_arrays, batch_size, is_train=True):\n",
    "    \"\"\"Construct a gluon data loader\"\"\"\n",
    "    dataset= gluon.data.ArrayDataset(*data_arrays)\n",
    "    return gluon.data.DataLoader(dataset, batch_size, shuffle=is_train)"
   ]
  },
  {
   "cell_type": "code",
   "execution_count": 9,
   "metadata": {},
   "outputs": [],
   "source": [
    "n_train, n_test, num_inputs, batch_size= 20, 100, 200, 1"
   ]
  },
  {
   "cell_type": "code",
   "execution_count": 12,
   "metadata": {},
   "outputs": [],
   "source": [
    "true_w, true_b=nd.ones((num_inputs, 1))*0.01, 0.05\n",
    "train_data=synthetic_data(true_w, true_b, n_train)\n",
    "train_iter=load_array(train_data, batch_size)\n",
    "test_data=synthetic_data(true_w, true_b, n_test)\n",
    "test_iter=load_array(test_data, batch_size, is_train=False)"
   ]
  },
  {
   "cell_type": "markdown",
   "metadata": {},
   "source": [
    "# Implementation from Scratch (weight decay)"
   ]
  },
  {
   "cell_type": "markdown",
   "metadata": {},
   "source": [
    "## Initialize Model Parameters"
   ]
  },
  {
   "cell_type": "code",
   "execution_count": 54,
   "metadata": {},
   "outputs": [],
   "source": [
    "w=nd.random.normal(scale=1, shape=(num_inputs, 1))\n",
    "b=nd.zeros(shape=(1, ))\n",
    "w.attach_grad()\n",
    "b.attach_grad()\n",
    "params=[w, b]"
   ]
  },
  {
   "cell_type": "code",
   "execution_count": 58,
   "metadata": {},
   "outputs": [],
   "source": [
    "num_epochs, lr=100, 0.3\n"
   ]
  },
  {
   "cell_type": "markdown",
   "metadata": {},
   "source": [
    "## Define the l2 Norm Penalty"
   ]
  },
  {
   "cell_type": "code",
   "execution_count": 15,
   "metadata": {},
   "outputs": [],
   "source": [
    "# The most conveninet way to implement this penalty is to square all terms in place and sum them up\n",
    "# We divide by 2 by convention"
   ]
  },
  {
   "cell_type": "code",
   "execution_count": 14,
   "metadata": {},
   "outputs": [],
   "source": [
    "def l2_penalty(w):\n",
    "    return (w**2).sum()/2"
   ]
  },
  {
   "cell_type": "markdown",
   "metadata": {},
   "source": [
    "## Define Training and Testing"
   ]
  },
  {
   "cell_type": "code",
   "execution_count": 16,
   "metadata": {},
   "outputs": [],
   "source": [
    "def linreg(X, w, b):\n",
    "    return nd.dot(X, w)+b"
   ]
  },
  {
   "cell_type": "code",
   "execution_count": 17,
   "metadata": {},
   "outputs": [],
   "source": [
    "def squared_loss(y_hat, y):\n",
    "    return (y_hat-y.reshape(y_hat.shape))**2/2"
   ]
  },
  {
   "cell_type": "code",
   "execution_count": 37,
   "metadata": {},
   "outputs": [
    {
     "data": {
      "text/plain": [
       "\n",
       "[2.]\n",
       "<NDArray 1 @cpu(0)>"
      ]
     },
     "execution_count": 37,
     "metadata": {},
     "output_type": "execute_result"
    }
   ],
   "source": [
    "squared_loss(nd.array([6]), nd.array([4]))"
   ]
  },
  {
   "cell_type": "code",
   "execution_count": 19,
   "metadata": {},
   "outputs": [],
   "source": [
    "def sgd(params, lr, batch_size):\n",
    "    for param in params:\n",
    "        param[:]=param-lr*param.grad/batch_size"
   ]
  },
  {
   "cell_type": "code",
   "execution_count": 20,
   "metadata": {},
   "outputs": [],
   "source": [
    "import mxnet as mx"
   ]
  },
  {
   "cell_type": "code",
   "execution_count": 38,
   "metadata": {},
   "outputs": [
    {
     "name": "stdout",
     "output_type": "stream",
     "text": [
      "1\n"
     ]
    }
   ],
   "source": [
    "for X, y in train_iter:\n",
    "    print(y.size)\n",
    "    break"
   ]
  },
  {
   "cell_type": "code",
   "execution_count": 43,
   "metadata": {},
   "outputs": [],
   "source": [
    "class Accumulator(object):\n",
    "    \"\"\"Sum a list of numbers over time\"\"\"\n",
    "    def __init__(self, n):\n",
    "        self.data=[0.0]*n\n",
    "    def add(self, *args):\n",
    "        self.data=[a+b for a, b in zip(self.data, args)]\n",
    "    def __getitem__(self, i):\n",
    "        return self.data[i]"
   ]
  },
  {
   "cell_type": "code",
   "execution_count": 44,
   "metadata": {},
   "outputs": [],
   "source": [
    "def evaluate_loss(net, data_iter, loss):\n",
    "    \"\"\"Evaluate the loss of the model on the given dataset\"\"\"\n",
    "    metric=Accumulator(2)\n",
    "    for X, y in data_iter:\n",
    "        metric.add(loss(net(X), y).sum().asscalar(), y.size)\n",
    "    return metric[0]/metric[1]"
   ]
  },
  {
   "cell_type": "code",
   "execution_count": 51,
   "metadata": {},
   "outputs": [],
   "source": [
    "updater=lambda batch_size: sgd(params, lr, batch_size)"
   ]
  },
  {
   "cell_type": "code",
   "execution_count": 59,
   "metadata": {},
   "outputs": [],
   "source": [
    "def train(lambd):\n",
    "    net, loss=lambda X: linreg(X, w, b), squared_loss    \n",
    "    for epoch in range(1, num_epochs+1):\n",
    "        for X, y in train_iter:\n",
    "            with autograd.record():\n",
    "                l=loss(net(X), y)+lambd*l2_penalty(w)\n",
    "            l.backward()\n",
    "            updater(X.shape[0])\n",
    "        if epoch%5==0:\n",
    "            print(\"epoch: \", epoch, \"Train loss: \", evaluate_loss(net, train_iter, loss), \"Test Loss: \", evaluate_loss(net, test_iter, loss))"
   ]
  },
  {
   "cell_type": "code",
   "execution_count": 60,
   "metadata": {},
   "outputs": [
    {
     "name": "stdout",
     "output_type": "stream",
     "text": [
      "epoch:  5 Train loss:  nan Test Loss:  nan\n",
      "epoch:  10 Train loss:  nan Test Loss:  nan\n",
      "epoch:  15 Train loss:  nan Test Loss:  nan\n",
      "epoch:  20 Train loss:  nan Test Loss:  nan\n",
      "epoch:  25 Train loss:  nan Test Loss:  nan\n",
      "epoch:  30 Train loss:  nan Test Loss:  nan\n",
      "epoch:  35 Train loss:  nan Test Loss:  nan\n",
      "epoch:  40 Train loss:  nan Test Loss:  nan\n",
      "epoch:  45 Train loss:  nan Test Loss:  nan\n",
      "epoch:  50 Train loss:  nan Test Loss:  nan\n",
      "epoch:  55 Train loss:  nan Test Loss:  nan\n",
      "epoch:  60 Train loss:  nan Test Loss:  nan\n",
      "epoch:  65 Train loss:  nan Test Loss:  nan\n",
      "epoch:  70 Train loss:  nan Test Loss:  nan\n",
      "epoch:  75 Train loss:  nan Test Loss:  nan\n",
      "epoch:  80 Train loss:  nan Test Loss:  nan\n",
      "epoch:  85 Train loss:  nan Test Loss:  nan\n",
      "epoch:  90 Train loss:  nan Test Loss:  nan\n",
      "epoch:  95 Train loss:  nan Test Loss:  nan\n",
      "epoch:  100 Train loss:  nan Test Loss:  nan\n"
     ]
    }
   ],
   "source": [
    "train(lambd=0)"
   ]
  },
  {
   "cell_type": "code",
   "execution_count": null,
   "metadata": {},
   "outputs": [],
   "source": []
  }
 ],
 "metadata": {
  "kernelspec": {
   "display_name": "Python 3",
   "language": "python",
   "name": "python3"
  },
  "language_info": {
   "codemirror_mode": {
    "name": "ipython",
    "version": 3
   },
   "file_extension": ".py",
   "mimetype": "text/x-python",
   "name": "python",
   "nbconvert_exporter": "python",
   "pygments_lexer": "ipython3",
   "version": "3.6.5"
  }
 },
 "nbformat": 4,
 "nbformat_minor": 2
}
