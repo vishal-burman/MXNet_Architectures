{
 "cells": [
  {
   "cell_type": "code",
   "execution_count": 1,
   "metadata": {},
   "outputs": [],
   "source": [
    "# Author-Vishal Burman"
   ]
  },
  {
   "cell_type": "markdown",
   "metadata": {},
   "source": [
    "## Implementation of Dropout from Scratch"
   ]
  },
  {
   "cell_type": "code",
   "execution_count": 2,
   "metadata": {},
   "outputs": [],
   "source": [
    "%matplotlib inline\n",
    "import d2l\n",
    "from mxnet import autograd, gluon, init, nd\n",
    "from mxnet.gluon import nn"
   ]
  },
  {
   "cell_type": "code",
   "execution_count": 3,
   "metadata": {},
   "outputs": [],
   "source": [
    "# To implement the dropout function we take sample values from Bernoulli distribution\n",
    "# We drop(set the nodes to 0) the nodes whose value is greater than dropout value"
   ]
  },
  {
   "cell_type": "code",
   "execution_count": 4,
   "metadata": {},
   "outputs": [],
   "source": [
    "def dropout(X, drop_prob):\n",
    "    assert 0<=drop_prob<=1\n",
    "    \n",
    "    # if the drop_prop is 1, all elements are dropped out\n",
    "    if drop_prob==1:\n",
    "        return X.zeros_like()\n",
    "    # Returns the boolean values in the form of 0 and 1\n",
    "    mask=nd.random.uniform(0, 1, X.shape) > drop_prob\n",
    "    \n",
    "    # We return the debiased survivors\n",
    "    return mask * X/(1-drop_prob)"
   ]
  },
  {
   "cell_type": "code",
   "execution_count": 5,
   "metadata": {},
   "outputs": [
    {
     "name": "stdout",
     "output_type": "stream",
     "text": [
      "\n",
      "[[ 0.  1.  2.  3.  4.  5.  6.  7.]\n",
      " [ 8.  9. 10. 11. 12. 13. 14. 15.]]\n",
      "<NDArray 2x8 @cpu(0)>\n",
      "\n",
      "[[ 0.  0.  0.  0.  8. 10. 12.  0.]\n",
      " [16.  0. 20. 22.  0.  0.  0. 30.]]\n",
      "<NDArray 2x8 @cpu(0)>\n",
      "\n",
      "[[0. 0. 0. 0. 0. 0. 0. 0.]\n",
      " [0. 0. 0. 0. 0. 0. 0. 0.]]\n",
      "<NDArray 2x8 @cpu(0)>\n"
     ]
    }
   ],
   "source": [
    "# We can test out our dropout function\n",
    "X=nd.arange(16).reshape((2, 8))\n",
    "print(dropout(X, 0))\n",
    "print(dropout(X, 0.5))\n",
    "print(dropout(X, 1))"
   ]
  },
  {
   "cell_type": "markdown",
   "metadata": {},
   "source": [
    "## Defining Model Parameters"
   ]
  },
  {
   "cell_type": "code",
   "execution_count": 13,
   "metadata": {},
   "outputs": [],
   "source": [
    "# We have out model net with two hidden layers\n",
    "# We attach the params with attach_grad for graph calculation"
   ]
  },
  {
   "cell_type": "code",
   "execution_count": 6,
   "metadata": {},
   "outputs": [],
   "source": [
    "num_inputs, num_outputs, num_hidden1, num_hidden2=784, 10, 256, 256\n",
    "\n",
    "W1=nd.random.normal(scale=0.01, shape=(num_inputs, num_hidden1))\n",
    "b1=nd.zeros(num_hidden1)\n",
    "\n",
    "W2=nd.random.normal(scale=0.01, shape=(num_hidden1, num_hidden2))\n",
    "b2=nd.zeros(num_hidden2)\n",
    "\n",
    "W3=nd.random.normal(scale=0.01, shape=(num_hidden2, num_outputs))\n",
    "b3=nd.zeros(num_outputs)\n",
    "\n",
    "params=[W1, b1, W2, b2, W3, b3]\n",
    "for param in params:\n",
    "    param.attach_grad()"
   ]
  },
  {
   "cell_type": "markdown",
   "metadata": {},
   "source": [
    "## Define the Model"
   ]
  },
  {
   "cell_type": "code",
   "execution_count": 7,
   "metadata": {},
   "outputs": [],
   "source": [
    "drop_prob1, drop_prop2=0.2, 0.5\n",
    "def net(X):\n",
    "    X=X.reshape((-1, num_inputs))\n",
    "    H1=(nd.dot(X, W1)+b1).relu()\n",
    "    \n",
    "    # Use dropout only when training the model\n",
    "    if autograd.is_training():\n",
    "        # Add a dropout layer just after the first fully connected layer\n",
    "        H1=dropout(H1, drop_prob1)\n",
    "        \n",
    "    H2=(nd.dot(H1, W2)+b2).relu()\n",
    "    if autograd.is_training():\n",
    "        # Add dropout layer after the second fully connected layer\n",
    "        H2=dropout(H2, drop_prop2)\n",
    "    \n",
    "    return nd.dot(H2, W3)+b3"
   ]
  },
  {
   "cell_type": "markdown",
   "metadata": {},
   "source": [
    "## Training and Testing"
   ]
  },
  {
   "cell_type": "code",
   "execution_count": 14,
   "metadata": {},
   "outputs": [],
   "source": [
    "# Defining the parameters of training"
   ]
  },
  {
   "cell_type": "code",
   "execution_count": 8,
   "metadata": {},
   "outputs": [],
   "source": [
    "num_epochs, lr, batch_size=10, 0.5, 256\n",
    "\n",
    "loss=gluon.loss.SoftmaxCrossEntropyLoss()\n",
    "train_iter, test_iter=d2l.load_data_fashion_mnist(batch_size)\n",
    "updater=lambda batch_size: sgd(params, lr, batch_size)"
   ]
  },
  {
   "cell_type": "code",
   "execution_count": 9,
   "metadata": {},
   "outputs": [],
   "source": [
    "# Writing the Training loop"
   ]
  },
  {
   "cell_type": "code",
   "execution_count": 15,
   "metadata": {},
   "outputs": [],
   "source": [
    "# Our optimization algorithm"
   ]
  },
  {
   "cell_type": "code",
   "execution_count": 10,
   "metadata": {},
   "outputs": [],
   "source": [
    "def sgd(param, lr, batch_size):\n",
    "    for param in params:\n",
    "        param[:]=param-lr*param.grad/batch_size"
   ]
  },
  {
   "cell_type": "code",
   "execution_count": 11,
   "metadata": {},
   "outputs": [],
   "source": [
    "import mxnet as mx\n",
    "def evaluate_accuracy(data_iter, net):\n",
    "    acc=mx.metric.Accuracy()\n",
    "    for i, (data, label) in enumerate(data_iter):\n",
    "        output=net(data)\n",
    "        predictions=nd.argmax(output, axis=1) # Rowwise\n",
    "        acc.update(preds=predictions, labels=label)\n",
    "    return acc.get()[1]"
   ]
  },
  {
   "cell_type": "code",
   "execution_count": 12,
   "metadata": {},
   "outputs": [
    {
     "name": "stdout",
     "output_type": "stream",
     "text": [
      "Epoch 1. Loss: 1.124804504966736, Train_acc 0.7626166666666667, Test_acc 0.7601\n",
      "Epoch 2. Loss: 0.5752545382817587, Train_acc 0.83, Test_acc 0.8264\n",
      "Epoch 3. Loss: 0.4870275349299113, Train_acc 0.8236333333333333, Test_acc 0.8205\n",
      "Epoch 4. Loss: 0.44764681158065794, Train_acc 0.8426333333333333, Test_acc 0.8412\n",
      "Epoch 5. Loss: 0.4183112699508667, Train_acc 0.8388666666666666, Test_acc 0.8388\n",
      "Epoch 6. Loss: 0.40122329552968344, Train_acc 0.7424166666666666, Test_acc 0.7396\n",
      "Epoch 7. Loss: 0.4786258300145467, Train_acc 0.8665833333333334, Test_acc 0.8612\n",
      "Epoch 8. Loss: 0.3842657153447469, Train_acc 0.84985, Test_acc 0.8423\n",
      "Epoch 9. Loss: 0.36690672982533773, Train_acc 0.83245, Test_acc 0.8226\n",
      "Epoch 10. Loss: 0.3573777543385824, Train_acc 0.8566666666666667, Test_acc 0.8472\n"
     ]
    }
   ],
   "source": [
    "for epoch in range(1, num_epochs+1):\n",
    "    cumulative_loss=0;\n",
    "    for X, y in train_iter:\n",
    "        with autograd.record():\n",
    "            l=loss(net(X), y)\n",
    "        l.backward()\n",
    "        updater(X.shape[0])\n",
    "        cumulative_loss+=nd.sum(l).asscalar()\n",
    "    test_acc=evaluate_accuracy(test_iter, net)\n",
    "    train_acc=evaluate_accuracy(train_iter, net)\n",
    "    print(\"Epoch %s. Loss: %s, Train_acc %s, Test_acc %s\" % (epoch, cumulative_loss/60000, train_acc, test_acc))"
   ]
  }
 ],
 "metadata": {
  "kernelspec": {
   "display_name": "Python 3",
   "language": "python",
   "name": "python3"
  },
  "language_info": {
   "codemirror_mode": {
    "name": "ipython",
    "version": 3
   },
   "file_extension": ".py",
   "mimetype": "text/x-python",
   "name": "python",
   "nbconvert_exporter": "python",
   "pygments_lexer": "ipython3",
   "version": "3.6.5"
  }
 },
 "nbformat": 4,
 "nbformat_minor": 2
}
