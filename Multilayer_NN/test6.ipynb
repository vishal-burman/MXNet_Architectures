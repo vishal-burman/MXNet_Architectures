{
 "cells": [
  {
   "cell_type": "code",
   "execution_count": 1,
   "metadata": {},
   "outputs": [],
   "source": [
    "# Author-Vishal Burman"
   ]
  },
  {
   "cell_type": "markdown",
   "metadata": {},
   "source": [
    "## Vanishing Gradients"
   ]
  },
  {
   "cell_type": "code",
   "execution_count": 2,
   "metadata": {},
   "outputs": [],
   "source": [
    "%matplotlib inline\n",
    "from mxnet import autograd, nd\n",
    "import matplotlib.pyplot as plt"
   ]
  },
  {
   "cell_type": "code",
   "execution_count": 3,
   "metadata": {},
   "outputs": [],
   "source": [
    "x=nd.arange(-8.0, 8.0, 0.1)"
   ]
  },
  {
   "cell_type": "code",
   "execution_count": 9,
   "metadata": {},
   "outputs": [],
   "source": [
    "x.attach_grad()"
   ]
  },
  {
   "cell_type": "code",
   "execution_count": 16,
   "metadata": {},
   "outputs": [],
   "source": [
    "# We can see in the below diagram that the gradients of input vanishes when they are small and when they are large\n",
    "# When training many layers we may find that the gradients are cutoff at some layer"
   ]
  },
  {
   "cell_type": "code",
   "execution_count": 15,
   "metadata": {},
   "outputs": [
    {
     "data": {
      "image/png": "[encoded data removed]",
      "text/plain": [
       "<Figure size 324x180 with 1 Axes>"
      ]
     },
     "metadata": {
      "needs_background": "light"
     },
     "output_type": "display_data"
    }
   ],
   "source": [
    "with autograd.record():\n",
    "    y=x.sigmoid()\n",
    "y.backward()\n",
    "\n",
    "plt.figure(figsize=(4.5, 2.5))\n",
    "plt.plot(x.asnumpy(), y.asnumpy())\n",
    "plt.plot(x.asnumpy(), x.grad.asnumpy())\n",
    "plt.legend(['sigmoid', 'gradient'])\n",
    "plt.show()"
   ]
  },
  {
   "cell_type": "markdown",
   "metadata": {},
   "source": [
    "## Exploding Gradients"
   ]
  },
  {
   "cell_type": "code",
   "execution_count": 18,
   "metadata": {},
   "outputs": [],
   "source": [
    "# We take 100 Gaussian random matrices amn multiply with some initial matrix\n",
    "# We can see that matrix product explodes\n",
    "# In a deep network if this were to happen, there is no change that gradient descent optimizer would converge"
   ]
  },
  {
   "cell_type": "code",
   "execution_count": 17,
   "metadata": {},
   "outputs": [
    {
     "name": "stdout",
     "output_type": "stream",
     "text": [
      "A single matrix \n",
      "[[ 1.1630785   0.4838046   0.29956347  0.15302546]\n",
      " [-1.1688148   1.5580711  -0.5459446  -2.3556297 ]\n",
      " [ 0.5414402   2.6785066   1.2546345  -0.54877394]\n",
      " [-0.68106437 -0.13531584  0.37723127  0.41016445]]\n",
      "<NDArray 4x4 @cpu(0)>\n",
      "After multiplying 100 matrices \n",
      "[[-4.36229360e+23  2.73217573e+23  2.72850719e+22  1.44128465e+23]\n",
      " [-2.60335988e+24  1.63052702e+24  1.62833607e+23  8.60140043e+23]\n",
      " [-2.09754670e+24  1.31372797e+24  1.31196270e+23  6.93021188e+23]\n",
      " [ 6.16490259e+23 -3.86118024e+23 -3.85598921e+22 -2.03686012e+23]]\n",
      "<NDArray 4x4 @cpu(0)>\n"
     ]
    }
   ],
   "source": [
    "M=nd.random.normal(shape=(4, 4))\n",
    "print('A single matrix', M)\n",
    "for i in range(100):\n",
    "    M=nd.dot(M, nd.random.normal(shape=(4, 4)))\n",
    "print(\"After multiplying 100 matrices\", M)"
   ]
  },
  {
   "cell_type": "code",
   "execution_count": null,
   "metadata": {},
   "outputs": [],
   "source": []
  }
 ],
 "metadata": {
  "kernelspec": {
   "display_name": "Python 3",
   "language": "python",
   "name": "python3"
  },
  "language_info": {
   "codemirror_mode": {
    "name": "ipython",
    "version": 3
   },
   "file_extension": ".py",
   "mimetype": "text/x-python",
   "name": "python",
   "nbconvert_exporter": "python",
   "pygments_lexer": "ipython3",
   "version": "3.6.5"
  }
 },
 "nbformat": 4,
 "nbformat_minor": 2
}
