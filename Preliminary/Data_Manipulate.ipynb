{
 "cells": [
  {
   "cell_type": "code",
   "execution_count": 4,
   "metadata": {},
   "outputs": [],
   "source": [
    "#Author-Vishal Burman"
   ]
  },
  {
   "cell_type": "markdown",
   "metadata": {},
   "source": [
    "### To begin with the majority of my undergraduate years have been spent in listening to the never-ending stupid arguments... Is TensorFlow better or Pytorch? I say is it too much if you try out those two as well as other libraries and see for yourself which one works for you best?"
   ]
  },
  {
   "cell_type": "markdown",
   "metadata": {},
   "source": [
    "### So here I will be trying out Amazon's deep learning framework and I thought it will be really amazing if I document my learnings on the way so anyone viewing this notebook can be benefitted.\n",
    "### Let's dive right into it..."
   ]
  },
  {
   "cell_type": "code",
   "execution_count": 5,
   "metadata": {},
   "outputs": [],
   "source": [
    "#Import mxnet libraries and dependencies"
   ]
  },
  {
   "cell_type": "code",
   "execution_count": 6,
   "metadata": {},
   "outputs": [],
   "source": [
    "import mxnet as mx\n",
    "from mxnet import nd    #...Yep this much only to get started"
   ]
  },
  {
   "cell_type": "code",
   "execution_count": null,
   "metadata": {},
   "outputs": [],
   "source": [
    "\"\"\"\n",
    "\n",
    "ndarrays represent the fundamental structure of neural networks. ndarrays is most commonly called Tensors.\n",
    "In deep learning tensors are pretty simple. Apparently if you are a physicist tensors become much more scary...\n",
    "Well in deep learning it purely means an array...\n",
    "\n",
    "\n",
    "\"\"\""
   ]
  },
  {
   "cell_type": "code",
   "execution_count": 7,
   "metadata": {},
   "outputs": [],
   "source": [
    "#Lets create a one-dimensional ndarray...This one's called a VECTOR"
   ]
  },
  {
   "cell_type": "code",
   "execution_count": 8,
   "metadata": {},
   "outputs": [
    {
     "data": {
      "text/plain": [
       "\n",
       "[ 0.  1.  2.  3.  4.  5.  6.  7.  8.  9. 10. 11.]\n",
       "<NDArray 12 @cpu(0)>"
      ]
     },
     "execution_count": 8,
     "metadata": {},
     "output_type": "execute_result"
    }
   ],
   "source": [
    "x=nd.arange(12)\n",
    "x"
   ]
  },
  {
   "cell_type": "code",
   "execution_count": null,
   "metadata": {},
   "outputs": [],
   "source": [
    "\"\"\"\n",
    "The output is pretty much intuitive MxNet creates a vector(array) of size 12 and the vector resides on CPU\n",
    "We can shift to GPU but more on that later...Not the 0 parameter in CPU does not represent a specific core.\n",
    "\n",
    "\"\"\""
   ]
  },
  {
   "cell_type": "code",
   "execution_count": 9,
   "metadata": {},
   "outputs": [],
   "source": [
    "#To get the shape pretty much the numpy equivalent:"
   ]
  },
  {
   "cell_type": "code",
   "execution_count": 11,
   "metadata": {},
   "outputs": [
    {
     "data": {
      "text/plain": [
       "(12,)"
      ]
     },
     "execution_count": 11,
     "metadata": {},
     "output_type": "execute_result"
    }
   ],
   "source": [
    "x.shape"
   ]
  },
  {
   "cell_type": "code",
   "execution_count": 12,
   "metadata": {},
   "outputs": [],
   "source": [
    "#Another equivalent of your standard numpy implementation....to get the size of the array:"
   ]
  },
  {
   "cell_type": "code",
   "execution_count": 13,
   "metadata": {},
   "outputs": [
    {
     "data": {
      "text/plain": [
       "12"
      ]
     },
     "execution_count": 13,
     "metadata": {},
     "output_type": "execute_result"
    }
   ],
   "source": [
    "x.size"
   ]
  },
  {
   "cell_type": "code",
   "execution_count": null,
   "metadata": {},
   "outputs": [],
   "source": [
    "\"\"\"\n",
    "\n",
    "We use the reshape function to shape one(possibly multi-dimensional) array into another that contains the\n",
    "same number of elements. So we can take our one-dimensional array and convert it into a 3x4 matrix. Like \n",
    "numpy MxNet provide a simple function .reshape((n, m))\n",
    "\n",
    "\"\"\""
   ]
  },
  {
   "cell_type": "code",
   "execution_count": 14,
   "metadata": {},
   "outputs": [
    {
     "data": {
      "text/plain": [
       "\n",
       "[[ 0.  1.  2.  3.]\n",
       " [ 4.  5.  6.  7.]\n",
       " [ 8.  9. 10. 11.]]\n",
       "<NDArray 3x4 @cpu(0)>"
      ]
     },
     "execution_count": 14,
     "metadata": {},
     "output_type": "execute_result"
    }
   ],
   "source": [
    "x=x.reshape((3, 4))\n",
    "x"
   ]
  },
  {
   "cell_type": "code",
   "execution_count": null,
   "metadata": {},
   "outputs": [],
   "source": [
    "\"\"\"\n",
    "\n",
    "There is one other concept while reshaping a vector...I struggled with this for a really very long time.\n",
    "Apparently there is a shortcut for reshaping which is the -1 concept. \n",
    "To explain this really intuitively...python is really lazy so is we want to reshape an ndarray we can supply\n",
    "only one-dimension to it and the next parameter we can supplied -1 and MxNet calculates what is the next value.\n",
    "Its a handy shortcut while working with large dimensions...\n",
    "\n",
    "\"\"\""
   ]
  },
  {
   "cell_type": "code",
   "execution_count": 15,
   "metadata": {},
   "outputs": [
    {
     "data": {
      "text/plain": [
       "\n",
       "[[ 0.  1.  2.  3.]\n",
       " [ 4.  5.  6.  7.]\n",
       " [ 8.  9. 10. 11.]]\n",
       "<NDArray 3x4 @cpu(0)>"
      ]
     },
     "execution_count": 15,
     "metadata": {},
     "output_type": "execute_result"
    }
   ],
   "source": [
    "x=x.reshape((3, 4))\n",
    "x"
   ]
  },
  {
   "cell_type": "code",
   "execution_count": 16,
   "metadata": {},
   "outputs": [],
   "source": [
    "#We reverse our x to original array and apply the -1 concept"
   ]
  },
  {
   "cell_type": "code",
   "execution_count": 17,
   "metadata": {},
   "outputs": [
    {
     "data": {
      "text/plain": [
       "\n",
       "[[ 0.  1.  2.  3.]\n",
       " [ 4.  5.  6.  7.]\n",
       " [ 8.  9. 10. 11.]]\n",
       "<NDArray 3x4 @cpu(0)>"
      ]
     },
     "execution_count": 17,
     "metadata": {},
     "output_type": "execute_result"
    }
   ],
   "source": [
    "x=nd.arange(12)\n",
    "x=x.reshape((3, -1))\n",
    "x"
   ]
  },
  {
   "cell_type": "code",
   "execution_count": null,
   "metadata": {},
   "outputs": [],
   "source": [
    "\"\"\"\n",
    "\n",
    "The empty function of MxNet pretty much grabs up some memory and hands us back a matrix without setting the\n",
    "values of any of its entries. Pretty efficient but that also means it might hand us some arbitrary values...\n",
    "\n",
    "\"\"\""
   ]
  },
  {
   "cell_type": "code",
   "execution_count": 18,
   "metadata": {},
   "outputs": [
    {
     "data": {
      "text/plain": [
       "\n",
       "[[0.000000e+00 0.000000e+00 0.000000e+00 0.000000e+00]\n",
       " [0.000000e+00 0.000000e+00 4.820467e-43 0.000000e+00]\n",
       " [0.000000e+00 9.275518e-39 0.000000e+00 9.918363e-39]]\n",
       "<NDArray 3x4 @cpu(0)>"
      ]
     },
     "execution_count": 18,
     "metadata": {},
     "output_type": "execute_result"
    }
   ],
   "source": [
    "nd.empty((3, 4))"
   ]
  },
  {
   "cell_type": "code",
   "execution_count": null,
   "metadata": {},
   "outputs": [],
   "source": [
    "\"\"\"\n",
    "\n",
    "Well we generally want our matrices initialized either with zeros, some known constant or numbers randomly\n",
    "sampled from a known distribution.\n",
    "\n",
    "\"\"\""
   ]
  },
  {
   "cell_type": "code",
   "execution_count": 20,
   "metadata": {},
   "outputs": [
    {
     "data": {
      "text/plain": [
       "\n",
       "[[[0. 0. 0. 0.]\n",
       "  [0. 0. 0. 0.]\n",
       "  [0. 0. 0. 0.]]\n",
       "\n",
       " [[0. 0. 0. 0.]\n",
       "  [0. 0. 0. 0.]\n",
       "  [0. 0. 0. 0.]]]\n",
       "<NDArray 2x3x4 @cpu(0)>"
      ]
     },
     "execution_count": 20,
     "metadata": {},
     "output_type": "execute_result"
    }
   ],
   "source": [
    "#TO create ndarray with values initialized to zeros:\n",
    "nd.zeros((2, 3, 4))"
   ]
  },
  {
   "cell_type": "code",
   "execution_count": 21,
   "metadata": {},
   "outputs": [
    {
     "data": {
      "text/plain": [
       "\n",
       "[[[1. 1. 1. 1.]\n",
       "  [1. 1. 1. 1.]\n",
       "  [1. 1. 1. 1.]]\n",
       "\n",
       " [[1. 1. 1. 1.]\n",
       "  [1. 1. 1. 1.]\n",
       "  [1. 1. 1. 1.]]]\n",
       "<NDArray 2x3x4 @cpu(0)>"
      ]
     },
     "execution_count": 21,
     "metadata": {},
     "output_type": "execute_result"
    }
   ],
   "source": [
    "#To create ndarrays(tensors) with each element set to one:\n",
    "nd.ones((2, 3, 4))"
   ]
  },
  {
   "cell_type": "code",
   "execution_count": 25,
   "metadata": {},
   "outputs": [
    {
     "data": {
      "text/plain": [
       "\n",
       "[[1. 2. 3.]\n",
       " [4. 5. 6.]\n",
       " [7. 8. 9.]]\n",
       "<NDArray 3x3 @cpu(0)>"
      ]
     },
     "execution_count": 25,
     "metadata": {},
     "output_type": "execute_result"
    }
   ],
   "source": [
    "#We can also supply our own values:\n",
    "y=nd.array(([1, 2, 3], [4, 5, 6], [7, 8, 9]))\n",
    "y"
   ]
  },
  {
   "cell_type": "code",
   "execution_count": null,
   "metadata": {},
   "outputs": [],
   "source": [
    "\"\"\"\n",
    "\n",
    "Moving to somewhat complex terms...If we want to create an ndarray according to some known probablity\n",
    "distribution. This is especially common if we intend to use the array as a parameter in a neural network\n",
    "\n",
    "\"\"\""
   ]
  },
  {
   "cell_type": "code",
   "execution_count": 26,
   "metadata": {},
   "outputs": [],
   "source": [
    "#In the following snippet the elements are randomly sampled in normal distribution with zero mean and unit variance"
   ]
  },
  {
   "cell_type": "code",
   "execution_count": 27,
   "metadata": {},
   "outputs": [
    {
     "data": {
      "text/plain": [
       "\n",
       "[[ 1.1630785   0.4838046   0.29956347  0.15302546]\n",
       " [-1.1688148   1.5580711  -0.5459446  -2.3556297 ]\n",
       " [ 0.5414402   2.6785066   1.2546345  -0.54877394]]\n",
       "<NDArray 3x4 @cpu(0)>"
      ]
     },
     "execution_count": 27,
     "metadata": {},
     "output_type": "execute_result"
    }
   ],
   "source": [
    "nd.random.normal(0, 1, shape=(3, 4))"
   ]
  },
  {
   "cell_type": "markdown",
   "metadata": {},
   "source": [
    "### Well the above are not exhaustive but its pretty much enough to give us an idea as to what are we dealing with"
   ]
  },
  {
   "cell_type": "markdown",
   "metadata": {},
   "source": [
    "### Let's move onto operations on tensors(NDarrays)..."
   ]
  },
  {
   "cell_type": "code",
   "execution_count": null,
   "metadata": {},
   "outputs": [],
   "source": [
    "\"\"\"\n",
    "\n",
    "In MxNet the arithmetic operators like +, -, /, *, ** have been lifted to element-wise operations for identically\n",
    "shaped tensors of arbitrary shape. We can call element-wise operations on any two tensors of the same shape, including\n",
    "matrices.\n",
    "\n",
    "\"\"\""
   ]
  },
  {
   "cell_type": "code",
   "execution_count": 30,
   "metadata": {},
   "outputs": [
    {
     "name": "stdout",
     "output_type": "stream",
     "text": [
      "x = \n",
      "[1. 2. 4. 8.]\n",
      "<NDArray 4 @cpu(0)>\n",
      "x + y \n",
      "[ 3.  4.  6. 10.]\n",
      "<NDArray 4 @cpu(0)>\n",
      "x - y \n",
      "[-1.  0.  2.  6.]\n",
      "<NDArray 4 @cpu(0)>\n",
      "x*y \n",
      "[ 2.  4.  8. 16.]\n",
      "<NDArray 4 @cpu(0)>\n",
      "x / y \n",
      "[0.5 1.  2.  4. ]\n",
      "<NDArray 4 @cpu(0)>\n"
     ]
    }
   ],
   "source": [
    "x=nd.array([1, 2, 4, 8])\n",
    "y=nd.ones_like(x)*2  #This returns an array of ones...i multiplied it by two so basically its an array of 2's\n",
    "print('x =', x)\n",
    "print('x + y', x+y)\n",
    "print('x - y', x-y)\n",
    "print('x*y', x*y)\n",
    "print('x / y', x/y)"
   ]
  },
  {
   "cell_type": "code",
   "execution_count": null,
   "metadata": {},
   "outputs": [],
   "source": [
    "\"\"\"\n",
    "\n",
    "In addition to other operations we can also perform matrix operations. In the following code snippet we will \n",
    "perform matrix multiplication of x and transpose of y.\n",
    "\n",
    "\n",
    "\"\"\""
   ]
  },
  {
   "cell_type": "code",
   "execution_count": 31,
   "metadata": {},
   "outputs": [
    {
     "data": {
      "text/plain": [
       "\n",
       "[[ 18.  20.  10.]\n",
       " [ 58.  60.  50.]\n",
       " [ 98. 100.  90.]]\n",
       "<NDArray 3x3 @cpu(0)>"
      ]
     },
     "execution_count": 31,
     "metadata": {},
     "output_type": "execute_result"
    }
   ],
   "source": [
    "x=nd.arange(12).reshape((3, 4))\n",
    "y=nd.array([[2,1,4,3], [1,2,3,4], [4,3,2,1]])\n",
    "nd.dot(x, y.T)  #Dot product between x and y_transpose...adding a .T does the transpose trick"
   ]
  },
  {
   "cell_type": "code",
   "execution_count": 34,
   "metadata": {},
   "outputs": [
    {
     "data": {
      "text/plain": [
       "\n",
       "[[ 0.  1.  2.  3.]\n",
       " [ 4.  5.  6.  7.]\n",
       " [ 8.  9. 10. 11.]\n",
       " [ 2.  1.  4.  3.]\n",
       " [ 1.  2.  3.  4.]\n",
       " [ 4.  3.  2.  1.]]\n",
       "<NDArray 6x4 @cpu(0)>"
      ]
     },
     "execution_count": 34,
     "metadata": {},
     "output_type": "execute_result"
    }
   ],
   "source": [
    "nd.concat(x, y, dim=0)"
   ]
  },
  {
   "cell_type": "code",
   "execution_count": null,
   "metadata": {},
   "outputs": [],
   "source": []
  }
 ],
 "metadata": {
  "kernelspec": {
   "display_name": "Python 3",
   "language": "python",
   "name": "python3"
  },
  "language_info": {
   "codemirror_mode": {
    "name": "ipython",
    "version": 3
   },
   "file_extension": ".py",
   "mimetype": "text/x-python",
   "name": "python",
   "nbconvert_exporter": "python",
   "pygments_lexer": "ipython3",
   "version": "3.6.8"
  }
 },
 "nbformat": 4,
 "nbformat_minor": 2
}
